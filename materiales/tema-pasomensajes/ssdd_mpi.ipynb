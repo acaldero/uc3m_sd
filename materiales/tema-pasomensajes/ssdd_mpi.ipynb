{
  "cells": [
    {
      "cell_type": "code",
      "execution_count": 6,
      "metadata": {
        "colab": {
          "base_uri": "https://localhost:8080/"
        },
        "id": "uef-Tx8aQKtD",
        "outputId": "d455437a-7f32-4d7b-cd46-139bff371596"
      },
      "outputs": [
        {
          "output_type": "stream",
          "name": "stdout",
          "text": [
            "(1/2) Installing pre-requisites...\n",
            "(2/2) Done!\n"
          ]
        }
      ],
      "source": [
        "#@markdown <font size='4'>Please run this cell's code first before starting the tutorial !</font><br>\n",
        "#@markdown <font size='4'>¡ Por favor ejecute esta celda antes de empezar el tutorial !</font>\n",
        "# @title { vertical-output: true, display-mode: \"form\" }\n",
        "\n",
        "#\n",
        "# Copyright 2015-2025 Felix Garcia Carballeira, Alejandro Calderon Mateos\n",
        "#\n",
        "# This file is part of UC3M_SSDD.\n",
        "#\n",
        "# UC3M_SSDD is free software: you can redistribute it and/or modify\n",
        "# it under the terms of the GNU Lesser General Public License as published by\n",
        "# the Free Software Foundation, either version 3 of the License, or\n",
        "# (at your option) any later version.\n",
        "#\n",
        "# UC3M_SSDD is distributed in the hope that it will be useful,\n",
        "# but WITHOUT ANY WARRANTY; without even the implied warranty of\n",
        "# MERCHANTABILITY or FITNESS FOR A PARTICULAR PURPOSE.  See the\n",
        "# GNU Lesser General Public License for more details.\n",
        "#\n",
        "# You should have received a copy of the GNU Lesser General Public License\n",
        "# along with UC3M_SSDD.  If not, see <http://www.gnu.org/licenses/>.\n",
        "#\n",
        "!echo \"(1/2) Installing pre-requisites...\"\n",
        "!apt install mpich mpich-doc gzip cmake python3 -y >& /dev/null\n",
        "!pip install lzstring google.colab >& /dev/null\n",
        "!echo \"(2/2) Done!\"\n",
        "\n",
        "from pathlib import Path\n",
        "import io\n",
        "from IPython.display import IFrame\n",
        "\n",
        "\n",
        "# Following code thanks to Rosa Filgueira Vicente\n",
        "# (https://colab.research.google.com/github/rosafilgueira/Workflows_Seminar)\n",
        "from google.colab import _message\n",
        "\n",
        "def write_cell_above_to_file(search_term, offset, filename):\n",
        "  cell = get_cell_above(search_term, offset)\n",
        "  code_block = get_cell_code_block(cell['source'])\n",
        "  with open(filename, 'w') as fp:\n",
        "    fp.writelines(code_block)\n",
        "\n",
        "def get_cell_above(search_term, offset):\n",
        "  nb = _message.blocking_request('get_ipynb')\n",
        "  for i, cell in enumerate(nb['ipynb']['cells']):\n",
        "    if search_term in ''.join(cell['source']):\n",
        "      return nb['ipynb']['cells'][i - offset]\n",
        "\n",
        "def get_cell_code_block(cell_lines):\n",
        "  code_block = []\n",
        "  in_block = False\n",
        "  for ln in cell_lines:\n",
        "    if '```' in ln:\n",
        "       in_block = not in_block\n",
        "       continue\n",
        "    if in_block:\n",
        "       code_block.append(ln)\n",
        "  return code_block\n"
      ]
    },
    {
      "cell_type": "markdown",
      "metadata": {
        "id": "FRzTVSuRQKtC"
      },
      "source": [
        "\n",
        "# Comunicación con MPI\n",
        "+ **Felix García Carballeira y Alejandro Calderón Mateos**\n",
        "+ [![License: CC BY-NC-SA 4.0](https://img.shields.io/badge/License-CC%20BY--NC--SA%204.0-blue.svg)](https://github.com/acaldero/uc3m_sd/blob/main/LICENSE)\n",
        "* Agradecer a **Rosa Filgueira Vicente** su ayuda en la ejecución de celdas de código\n",
        "\n"
      ]
    },
    {
      "cell_type": "markdown",
      "source": [
        "\n",
        "## Contenidos\n",
        "\n",
        " 1. Introducción a MPI:\n",
        "    * [Definir MPI](#scrollTo=WHb7SdTCZCHx&line=14&uniqifier=1)\n",
        "    * [Características principales](#scrollTo=LNLUStCiZDql&line=14&uniqifier=1)\n",
        "    * [Modelo de MPI](#scrollTo=O9Mq3mwyZIRO&line=1&uniqifier=1)\n",
        "    * [Ejemplo en C: Hola mundo](#scrollTo=KB9e_vURQKtD&line=1&uniqifier=1)\n",
        " 2. Comunicación punto a punto:\n",
        "    * [API de MPI](#comunicación-punto-a-punto)\n",
        "    * [Ejemplo en C: send y receive](#ejemplo-en-c-send-y-receive)\n",
        " 3. Comunicación colectiva:\n",
        "    * [Principales primitivas colectivas](#comunicación-colectiva)\n",
        "    * [Ejemplo en C: broadcast y barrier](#ejemplo-en-c-broadcast-y-barrier)\n",
        " 4. Paralelismo y escalabilidad:\n",
        "    * [Ejemplo en C: cálculo de π con MPI](#ejemplo-en-c-cálculo-de-π-con-mpi)\n",
        "    * [Ejemplo en C: cálculo de π con OpenMP](#ejemplo-en-c-c%C3%A1lculo-de-%CF%80-con-openmp)\n"
      ],
      "metadata": {
        "id": "4UkwQJCSVSjt"
      }
    },
    {
      "cell_type": "markdown",
      "source": [
        "\n",
        "## 1. Introducción a MPI\n"
      ],
      "metadata": {
        "id": "oaMvM18PVzO-"
      }
    },
    {
      "cell_type": "markdown",
      "source": [
        "### 1.1 Definir MPI\n",
        "\n",
        "- \"MPI es una **interfaz**  de paso de mensaje que representa un esfuerzo prometedor de mejorar la disponibilidad de un software **altamente  eficiente** y **portable** para satisfacer las necesidades actuales en la **computación de alto rendimiento** a través de la definición de un estándar de paso de mensajes universal.\"\n",
        "   * William D. Gropp et al.\n",
        "\n",
        "- MPI son las iniciales de *Message Passing Interface*:\n",
        "  - Es una interfaz estándar de paso de mensajes para el desarrollo de aplicaciones paralelas <br> que ejecutan en computadores que no comparten memoria (memoria distribuida).\n",
        "\n",
        "- No es una implementación sino la especificación que tiene que cumplir las implementaciones de MPI. <br>\n",
        "  Las más conocidas son:\n",
        "  - OpenMPI 5.0.8 (30/5/2025) –[http://www.open-mpi.org/](http://www.open-mpi.org/)\n",
        "  - MPICH 4.3.1   (20/6/2025) –[http://www.mpich.org/](http://www.mpich.org/)\n",
        "\n"
      ],
      "metadata": {
        "id": "WHb7SdTCZCHx"
      }
    },
    {
      "cell_type": "markdown",
      "source": [
        "\n",
        "\n",
        "### 1.2 Características principales\n",
        "\n",
        "- **Portabilidad**:\n",
        "     - Definido independiente de plataforma paralela\n",
        "     - Útil en arquitecturas paralelas heterogéneas\n",
        "- **Eficiencia**:\n",
        "    - Definido para aplicaciones multihilo\n",
        "    - Sobre una comunicación fiable y eficiente\n",
        "    - Busca el máximo de cada plataforma\n",
        "- **Funcionalidad**:\n",
        "    - Fácil de usar por cualquier programador que ya haya usado cualquier biblioteca de paso de mensajes\n",
        "\n"
      ],
      "metadata": {
        "id": "LNLUStCiZDql"
      }
    },
    {
      "cell_type": "markdown",
      "source": [
        "\n",
        "\n",
        "### 1.3 Modelo de MPI\n",
        "\n",
        "-   Los procesos ejecutan el mismo programa\n",
        "-   Todas las estructuras de datos y variables son locales a cada proceso\n",
        "    -   Los procesos ejecutan en espacios de direcciones distintos (máquinas distintas)\n",
        "    -   Los procesos no comparten memoria\n",
        "    -   Los procesos intercambian datos mediante paso de mensajes\n",
        "\n"
      ],
      "metadata": {
        "id": "O9Mq3mwyZIRO"
      }
    },
    {
      "cell_type": "markdown",
      "metadata": {
        "id": "KB9e_vURQKtD"
      },
      "source": [
        "### 1.4 Ejemplo en C: Hola mundo\n",
        "\n",
        "1. Ha de **editar** el archivo mpi_hola.c con el siguiente contenido:\n",
        "  #### mpi_hola.c\n",
        "  ```c\n",
        "    #include <stdio.h>\n",
        "    #include \"mpi.h\"\n",
        "\n",
        "    int main ( int argc, char **argv )\n",
        "    {\n",
        "       int comm_size, my_rank;\n",
        "       int  tam = 255;\n",
        "       char name[255];\n",
        "       \n",
        "       /* Inicializar MPI, lo primero en el programa (puede modificar argc y argv) */\n",
        "       MPI_Init(&argc, &argv);\n",
        "       \n",
        "       MPI_Comm_size(MPI_COMM_WORLD, &comm_size); /* size <- cuántos procesos somos */\n",
        "       MPI_Comm_rank(MPI_COMM_WORLD, &my_rank);   /* node <- mi identificador, de 0 a (size-1) */\n",
        "       \n",
        "       MPI_Get_processor_name(name, &tam);\n",
        "       printf(\"El proceso %d de %d procesos (%s)\\n\", my_rank, comm_size, name);\n",
        "       \n",
        "       /* Finalizar MPI, no se puede inicializar de nuevo luego */\n",
        "       MPI_Finalize();\n",
        "       return 0;\n",
        "    }\n",
        "  ```"
      ]
    },
    {
      "cell_type": "markdown",
      "source": [
        "2. Se puede **compilar** usando `mpicc` de la siguiente forma:\n",
        "  ```bash\n",
        "  mpicc -g -Wall -c mpi_hola.c -o mpi_hola.o\n",
        "  mpicc -g -Wall -o mpi_hola mpi_hola.o\n",
        "  ```\n",
        "  \n",
        "3. Se puede **ejecutar** en la máquina local usando `mpirun` de la siguiente forma:\n",
        "* Primero hay que crear un archivo `machines` con la lista de máquinas (una por línea) que van a ser usadas para ejecutar:\n",
        "     ```bash\n",
        "     cat <<EOF > machines\n",
        "     localhost\n",
        "     localhost\n",
        "     EOF\n",
        "     ```\n",
        "* Luego se ha de usar `mpirun`:\n",
        "     ```bash\n",
        "     mpirun -np 2 -machinefile machines ./mpi_hola\n",
        "     ```\n",
        "  La salida sería similar a:\n",
        "  ```bash\n",
        "  El proceso 0 de 2 procesos (kiwi)\n",
        "  El proceso 1 de 2 procesos (kiwi)\n",
        "  ```\n"
      ],
      "metadata": {
        "id": "CjxZ7PypEafG"
      }
    },
    {
      "cell_type": "code",
      "execution_count": 7,
      "metadata": {
        "colab": {
          "base_uri": "https://localhost:8080/"
        },
        "cellView": "form",
        "id": "g3xhdlHgQKtE",
        "outputId": "6b4ed382-0c52-48b2-dfcf-cafecc241ab8"
      },
      "outputs": [
        {
          "output_type": "stream",
          "name": "stdout",
          "text": [
            "El proceso 0 de 2 procesos (23ff00b760a9)\n",
            "El proceso 1 de 2 procesos (23ff00b760a9)\n"
          ]
        }
      ],
      "source": [
        "#@markdown <font size='4'>Compilar y ejecutar el ejemplo anterior</font>\n",
        "\n",
        "search_term = 'id:li1'\n",
        "write_cell_above_to_file(search_term, 2, '/tmp/mpi_hola.c')\n",
        "\n",
        "!mpicc -g -Wall -c /tmp/mpi_hola.c  -o /tmp/mpi_hola.o\n",
        "!mpicc -g -Wall -o /tmp/mpi_hola       /tmp/mpi_hola.o\n",
        "!echo localhost >  /tmp/machines\n",
        "!echo localhost >> /tmp/machines\n",
        "!mpirun --allow-run-as-root  -np 2 -machinefile /tmp/machines /tmp/mpi_hola\n"
      ]
    },
    {
      "cell_type": "markdown",
      "metadata": {
        "id": "U8MaKMtHQKtE"
      },
      "source": [
        "\n",
        "## 2. Comunicación punto a punto\n",
        "\n"
      ]
    },
    {
      "cell_type": "markdown",
      "source": [
        "### 2.1 API de MPI\n",
        "\n",
        "El API de MPI incluye:\n",
        " - Estructuras de datos:\n",
        "    * Tipos de datos (básicos, vectores, compuestos, …)\n",
        "    * Grupo de procesos (grupos, comunicadores, …)\n",
        " - Paso de mensajes:\n",
        "    * Llamadas punto a punto (bloqueantes, asíncronas)\n",
        "    * Llamadas colectivas (bcast, scatter, gather, …)\n",
        " - Entrada y salida:\n",
        "    * Gestión de ficheros (apertura, cierre, …)\n",
        "    * Gestión de contenidos (vistas, punteros, …)\n",
        " - Procesos:\n",
        "    * Gestión de procesos (creación, …)\n",
        "    * *Profiling*\n"
      ],
      "metadata": {
        "id": "11FbXk4Ob7uh"
      }
    },
    {
      "cell_type": "markdown",
      "metadata": {
        "id": "ChYvVOpAQKtE"
      },
      "source": [
        "### 2.2 Ejemplo en C: send y receive\n",
        "\n",
        "1. Ha de **editar** el archivo mpi_p2p.c con el siguiente contenido:\n",
        "  #### mpi_p2p.c\n",
        "  ```c\n",
        "  #include <stdio.h>\n",
        "  #include \"mpi.h\"\n",
        "\n",
        "  int main ( int argc, char **argv )\n",
        "  {\n",
        "     int comm_size, my_rank;\n",
        "     int num = 0;\n",
        "    \n",
        "     /* Inicializar MPI, lo primero en el programa (puede modificar argc y argv) */\n",
        "     MPI_Init(&argc, &argv);\n",
        "    \n",
        "     MPI_Comm_size(MPI_COMM_WORLD, &comm_size); /* size <- cuántos procesos somos */\n",
        "     MPI_Comm_rank(MPI_COMM_WORLD, &my_rank);   /* node <- mi identificador, de 0 a (size-1) */\n",
        "\n",
        "     if (my_rank == 0) {\n",
        "        /* Envía (MPI_Send) desde una dirección de memoria (&num)\n",
        "           un (1) entero (MPI_INT) al proceso con rank 1 (1)\n",
        "           en mensaje con etiqueta 0 por el comunicador MPI_COMM_WORD */\n",
        "        num = 10 ;\n",
        "        MPI_Send(&num, 1, MPI_INT, 1, 0, MPI_COMM_WORLD);\n",
        "     }\n",
        "     else {\n",
        "        /* Recibe (MPI_Recv) en una dirección de memoria (&num)\n",
        "           un (1) entero (MPI_INT) desde el proceso con rank 0 (0)\n",
        "           en mensaje con etiqueta 0 por el comunicador MPI_COMM_WORD */\n",
        "        MPI_Recv(&num, 1, MPI_INT, 0, 0, MPI_COMM_WORLD, MPI_STATUS_IGNORE);\n",
        "        printf(\"[0 -> %d] num: %d\\n\", my_rank, num) ;\n",
        "     }\n",
        "    \n",
        "     /* Finalizar MPI, no se puede inicializar de nuevo luego */\n",
        "     MPI_Finalize();\n",
        "     return 0;\n",
        "  }\n",
        "  ```\n"
      ]
    },
    {
      "cell_type": "markdown",
      "source": [
        "2. Se puede **compilar** usando `mpicc` de la siguiente forma:\n",
        "  ```bash\n",
        "   mpicc -Wall -g mpi_p2p.c -o mpi_p2p\n",
        "  ```\n",
        "  \n",
        "3. Se puede **ejecutar** en la máquina local usando `mpirun` de la siguiente forma:\n",
        "* Primero hay que crear un archivo `machines` con la lista de máquinas (una por línea) que van a ser usadas para ejecutar:\n",
        "     ```bash\n",
        "     cat <<EOF > machines\n",
        "     localhost\n",
        "     localhost\n",
        "     EOF\n",
        "     ```\n",
        "* Luego se ha de usar `mpirun`:\n",
        "     ```bash\n",
        "     mpirun -np 2 -machinefile machines ./mpi_p2p\n",
        "     ```\n",
        "  La salida sería similar a:\n",
        "  ```bash\n",
        "  [0 -> 1] num: 10\n",
        "  ```\n",
        "\n"
      ],
      "metadata": {
        "id": "4uuGbewEHNfA"
      }
    },
    {
      "cell_type": "code",
      "execution_count": 8,
      "metadata": {
        "colab": {
          "base_uri": "https://localhost:8080/"
        },
        "id": "Cnie148RQKtE",
        "outputId": "df3bf681-fbde-4032-a60b-5cef1a83175e"
      },
      "outputs": [
        {
          "output_type": "stream",
          "name": "stdout",
          "text": [
            "[0 -> 1] num: 10\n"
          ]
        }
      ],
      "source": [
        "#@markdown <font size='4'>Compilar y ejecutar el ejemplo anterior</font>\n",
        "\n",
        "search_term = 'id:li2'\n",
        "write_cell_above_to_file(search_term, 2, '/tmp/mpi_p2p.c')\n",
        "\n",
        "!mpicc -g -Wall -c /tmp/mpi_p2p.c  -o /tmp/mpi_p2p.o\n",
        "!mpicc -g -Wall -o /tmp/mpi_p2p       /tmp/mpi_p2p.o\n",
        "!echo localhost >  /tmp/machines\n",
        "!echo localhost >> /tmp/machines\n",
        "!mpirun --allow-run-as-root  -np 2 -machinefile /tmp/machines /tmp/mpi_p2p\n"
      ]
    },
    {
      "cell_type": "markdown",
      "metadata": {
        "id": "Z9gqtHYmQKtE"
      },
      "source": [
        "\n",
        "## 3. Comunicación colectiva\n",
        "\n"
      ]
    },
    {
      "cell_type": "markdown",
      "source": [
        "### 3.1 Principales primitivas colectivas\n",
        "\n",
        "* MPI_Barrier:\n",
        "  <html>\n",
        "    <table border=\"0\">\n",
        "        <tr>\n",
        "            <td><img alt=\"MPI_Barrier\"   src=\"https://raw.githubusercontent.com/acaldero/uc3m_sd/main/materiales/tema-pasomensajes/ssdd_mpi/mpi_barrier.svg\" height=\"90\" style=\"height:6vh; max-height:5vh\"></td>\n",
        "        </tr>\n",
        "    </table>\n",
        "  </html>\n",
        "* MPI_Bcast:\n",
        "  <html>\n",
        "    <table border=\"0\">\n",
        "        <tr>\n",
        "            <td><img alt=\"MPI_Bcast\"     src=\"https://raw.githubusercontent.com/acaldero/uc3m_sd/main/materiales/tema-pasomensajes/ssdd_mpi/mpi_bcast.svg\" height=\"90\" style=\"max-height:5vh\"></td>\n",
        "        </tr>\n",
        "    </table>\n",
        "  </html>\n",
        "* MPI_Scatter vs MPI_Gather:\n",
        "  <html>\n",
        "    <table border=\"0\">\n",
        "        <tr>\n",
        "            <td><img alt=\"MPI_Scatter\"   src=\"https://raw.githubusercontent.com/acaldero/uc3m_sd/main/materiales/tema-pasomensajes/ssdd_mpi/mpi_scatter.svg\" height=\"100\"></td>\n",
        "            <td><img alt=\"MPI_Gather\"    src=\"https://raw.githubusercontent.com/acaldero/uc3m_sd/main/materiales/tema-pasomensajes/ssdd_mpi/mpi_gather.svg\" height=\"100\"></td>\n",
        "        </tr>\n",
        "    </table>\n",
        "  </html>\n",
        "* MPI_Gather vs MPI_Allgather:\n",
        "  <html>\n",
        "    <table border=\"0\">\n",
        "        <tr>\n",
        "            <td><img alt=\"MPI_Gather\"    src=\"https://raw.githubusercontent.com/acaldero/uc3m_sd/main/materiales/tema-pasomensajes/ssdd_mpi/mpi_gather.svg\" height=\"100\"></td>\n",
        "            <td><img alt=\"MPI_Allgather\" src=\"https://raw.githubusercontent.com/acaldero/uc3m_sd/main/materiales/tema-pasomensajes/ssdd_mpi/mpi_allgather.svg\" height=\"100\"></td>\n",
        "        <tr>\n",
        "    </table>\n",
        "  </html>\n",
        "* MPI_Reduce vs MPI_Allreduce:\n",
        "  <html>\n",
        "    <table border=\"0\">\n",
        "        </tr>\n",
        "            <td><img alt=\"MPI_Reduce\"    src=\"http://hustcat.github.io/assets/mpi/mpi_reduce_00.png\" height=\"150\"></td>\n",
        "            <td><img alt=\"MPI_Allreduce\" src=\"http://hustcat.github.io/assets/mpi/mpi_allreduce_00.png\" height=\"150\"></td>\n",
        "        </tr>\n",
        "    </table>\n",
        "  </html>\n"
      ],
      "metadata": {
        "id": "GYD-VcCccjhO"
      }
    },
    {
      "cell_type": "markdown",
      "metadata": {
        "id": "iLOrSjKpQKtE"
      },
      "source": [
        "\n",
        "### 3.2 Ejemplo en C: broadcast y barrier\n",
        "\n",
        "1. Ha de **editar** el archivo mpi_coll.c con el siguiente contenido:\n",
        "  #### mpi_coll.c\n",
        "  ```c\n",
        "  #include <stdio.h>\n",
        "  #include \"mpi.h\"\n",
        "\n",
        "  int main ( int argc, char **argv )\n",
        "  {\n",
        "    int comm_size, my_rank;\n",
        "    int num = 0;\n",
        "    \n",
        "    /* Inicializar MPI, lo primero en el programa (puede modificar argc y argv) */\n",
        "    MPI_Init(&argc, &argv);\n",
        "    \n",
        "    MPI_Comm_size(MPI_COMM_WORLD, &comm_size); /* size <- cuántos procesos somos */\n",
        "    MPI_Comm_rank(MPI_COMM_WORLD, &my_rank);   /* node <- mi identificador, de 0 a (size-1) */\n",
        "    \n",
        "    if (0 == my_rank)\n",
        "         num = 5;  /* solo el proceso 0 tiene num el valor 5 */\n",
        "    else num = 0 ; /* el resto de procesos tiene num el valor 0 */\n",
        "    \n",
        "    MPI_Bcast(&num, 1, MPI_INT, 0, MPI_COMM_WORLD);\n",
        "    MPI_Barrier(MPI_COMM_WORLD);\n",
        "    printf(\"El proceso %d tiene num: %d\\n\", my_rank, num);\n",
        "    \n",
        "    /* Finalizar MPI, no se puede inicializar de nuevo luego */\n",
        "    MPI_Finalize();\n",
        "    return 0;\n",
        "  }\n",
        "  ```\n"
      ]
    },
    {
      "cell_type": "markdown",
      "source": [
        "2. Se puede **compilar** usando `mpicc` de la siguiente forma:\n",
        "  ```bash\n",
        "   mpicc -Wall -g mpi_coll.c -o mpi_coll\n",
        "  ```\n",
        "  \n",
        "3. Se puede **ejecutar** en la máquina local usando `mpirun` de la siguiente forma:\n",
        "* Primero hay que crear un archivo `machines` con la lista de máquinas (una por línea) que van a ser usadas para ejecutar:\n",
        "     ```bash\n",
        "     cat <<EOF > machines\n",
        "     localhost\n",
        "     localhost\n",
        "     EOF\n",
        "     ```\n",
        "* Luego se ha de usar `mpirun`:\n",
        "     ```bash\n",
        "     mpirun -np 2 -machinefile machines ./mpi_coll\n",
        "     ```\n",
        "  La salida sería similar a:\n",
        "  ```bash\n",
        "  El proceso 0 tiene num: 5\n",
        "  El proceso 1 tiene num: 5\n",
        "  ```\n",
        "\n"
      ],
      "metadata": {
        "id": "tEIPoFdJJllH"
      }
    },
    {
      "cell_type": "code",
      "execution_count": 9,
      "metadata": {
        "colab": {
          "base_uri": "https://localhost:8080/"
        },
        "cellView": "form",
        "id": "jRiquliKQKtE",
        "outputId": "772ddd97-14a6-469c-eb0e-091ad30eb8d6"
      },
      "outputs": [
        {
          "output_type": "stream",
          "name": "stdout",
          "text": [
            "El proceso 1 tiene num: 5\n",
            "El proceso 0 tiene num: 5\n"
          ]
        }
      ],
      "source": [
        "#@markdown <font size='4'>Compilar y ejecutar el ejemplo anterior</font>\n",
        "\n",
        "search_term = 'id:li3'\n",
        "write_cell_above_to_file(search_term, 2, '/tmp/mpi_p2p.c')\n",
        "\n",
        "!mpicc -g -Wall -c /tmp/mpi_p2p.c  -o /tmp/mpi_p2p.o\n",
        "!mpicc -g -Wall -o /tmp/mpi_p2p       /tmp/mpi_p2p.o\n",
        "!echo localhost >  /tmp/machines\n",
        "!echo localhost >> /tmp/machines\n",
        "!mpirun --allow-run-as-root  -np 2 -machinefile /tmp/machines /tmp/mpi_p2p\n"
      ]
    },
    {
      "cell_type": "markdown",
      "source": [
        "## 4. Paralelismo y escalabilidad:\n"
      ],
      "metadata": {
        "id": "uYjAVp_IdA1C"
      }
    },
    {
      "cell_type": "markdown",
      "metadata": {
        "id": "AqKDFVAvQKtE"
      },
      "source": [
        "\n",
        "### 4.1 Ejemplo en C: cálculo de π con MPI\n",
        "\n",
        "1. Ha de **editar** el archivo pi_mpi.c con el siguiente contenido:\n",
        "  #### pi_mpi.c\n",
        "  ```c\n",
        "  #include <math.h>\n",
        "  #include <stdio.h>\n",
        "  #include <mpi.h>\n",
        "\n",
        "  #define N 1E9\n",
        "  #define d 1E-9\n",
        "\n",
        "  int main(int argc, char* argv[])\n",
        "  {\n",
        "    int rank, size;\n",
        "    double pi = 0.0, result = 0.0, sum = 0.0, s = 0, x = 0;\n",
        "    MPI_Init(&argc, &argv);\n",
        "    MPI_Comm_rank(MPI_COMM_WORLD, &rank);\n",
        "    MPI_Comm_size(MPI_COMM_WORLD, &size);\n",
        "\n",
        "    for (int i = rank; i < N; i += size) {\n",
        "        x = d * i;\n",
        "        s = sqrt(4 * (1 - x * x)) * d;\n",
        "        result = result + s;\n",
        "    }\n",
        "\n",
        "    MPI_Reduce(&result, &sum, 1, MPI_DOUBLE, MPI_SUM, 0, MPI_COMM_WORLD);\n",
        "\n",
        "    if (rank == 0) {\n",
        "        pi = 2 * sum;\n",
        "        printf(\"np = %2d; PI = %lf\\n\", size, pi);\n",
        "    }\n",
        "\n",
        "    MPI_Finalize();\n",
        "    return 0;\n",
        "  }\n",
        "  ```\n"
      ]
    },
    {
      "cell_type": "markdown",
      "source": [
        "2. Se puede **compilar** usando `mpicc` de la siguiente forma:\n",
        "  ```bash\n",
        "   mpicc -Wall -g pi_mpi.c -lm -o pi_mpi\n",
        "  ```\n",
        "  \n",
        "3. Se puede **ejecutar** en la máquina local usando `mpirun` de la siguiente forma:\n",
        "* Primero hay que crear un archivo `machines` con la lista de máquinas (una por línea) que van a ser usadas para ejecutar:\n",
        "     ```bash\n",
        "     cat <<EOF > machines\n",
        "     localhost\n",
        "     localhost\n",
        "     EOF\n",
        "     ```\n",
        "* Luego se ha de usar `mpirun`:\n",
        "     ```bash\n",
        "     mpirun -np 2 -machinefile machines ./pi_mpi\n",
        "     ```\n",
        "  La salida sería similar a:\n",
        "  ```bash\n",
        "     np =  2; PI = 3.141593\n",
        "  ```\n",
        "\n"
      ],
      "metadata": {
        "id": "2X4WuIF6KZbo"
      }
    },
    {
      "cell_type": "code",
      "execution_count": 11,
      "metadata": {
        "colab": {
          "base_uri": "https://localhost:8080/"
        },
        "cellView": "form",
        "id": "DqBm95R2QKtE",
        "outputId": "7492d126-ee39-4ba7-9aa9-5b4e5cb0cae5"
      },
      "outputs": [
        {
          "output_type": "stream",
          "name": "stdout",
          "text": [
            "np =  2; PI = 3.141593\n"
          ]
        }
      ],
      "source": [
        "#@markdown <font size='4'>Compilar y ejecutar el ejemplo anterior</font>\n",
        "\n",
        "search_term = 'id:li4'\n",
        "write_cell_above_to_file(search_term, 2, '/tmp/pi_mpi.c')\n",
        "\n",
        "!mpicc -Wall -g /tmp/pi_mpi.c -lm -o /tmp/pi_mpi\n",
        "!echo localhost >  /tmp/machines\n",
        "!echo localhost >> /tmp/machines\n",
        "!mpirun --allow-run-as-root  -np 2 -machinefile /tmp/machines  /tmp/pi_mpi\n"
      ]
    },
    {
      "cell_type": "markdown",
      "metadata": {
        "id": "UJZrMprmQKtF"
      },
      "source": [
        "\n",
        "### 4.2 Ejemplo en C: cálculo de π con OpenMP\n",
        "\n",
        "1. Ha de **editar** el archivo pi_omp.c con el siguiente contenido:\n",
        "  #### pi_omp.c\n",
        "  ```c\n",
        "  #include <stdlib.h>\n",
        "  #include <math.h>\n",
        "  #include <stdio.h>\n",
        "  #include <stdlib.h>\n",
        "  #include <sys/time.h>\n",
        "  #include <omp.h>\n",
        "\n",
        "  #define N 1000000000\n",
        "  #define d 1E-9\n",
        "\n",
        "  int main ( int argc, char* argv[] )\n",
        "  {\n",
        "     long long i;\n",
        "     double PI = 0.0, result = 0.0;\n",
        "\n",
        "     #pragma omp parallel for reduction(+:result)\n",
        "     for (i = 0; i < N; i++) {\n",
        "         double x = d * i;\n",
        "         result += sqrt(4 * (1 - x * x)) * d;\n",
        "     }\n",
        "\n",
        "     PI = 2 * result;\n",
        "     printf(\"PI = %f\\n\", PI);\n",
        "\n",
        "     return 0;\n",
        "  }\n",
        "  ```\n",
        "\n"
      ]
    },
    {
      "cell_type": "markdown",
      "source": [
        "2. Se puede **compilar** usando `mpicc` de la siguiente forma:\n",
        "  ```bash\n",
        "   gcc -o pi_omp -fopenmp pi_omp.c -lm\n",
        "  ```\n",
        "   * Se precisa la librería de OpenMP `libopenmp.a` y la librería matemática `libm.a`  \n",
        "\n",
        "3. Se puede ejecutar en la máquina local de la siguiente forma:\n",
        "   ```bash\n",
        "  ./pi_omp\n",
        "   ```\n",
        "  La salida sería similar a:\n",
        "  ```bash\n",
        "  PI = 3.141593\n",
        "  ```\n",
        "\n"
      ],
      "metadata": {
        "id": "q6Yq8iO8LTwp"
      }
    },
    {
      "cell_type": "code",
      "execution_count": 12,
      "metadata": {
        "colab": {
          "base_uri": "https://localhost:8080/"
        },
        "cellView": "form",
        "id": "PemmA938QKtF",
        "outputId": "248b1b67-91f2-484e-8a16-fa6dfd577974"
      },
      "outputs": [
        {
          "output_type": "stream",
          "name": "stdout",
          "text": [
            "PI = 3.141593\n"
          ]
        }
      ],
      "source": [
        "#@markdown <font size='4'>Compilar y ejecutar el ejemplo anterior</font>\n",
        "\n",
        "search_term = 'id:li5'\n",
        "write_cell_above_to_file(search_term, 2, '/tmp/pi_omp.c')\n",
        "\n",
        "! gcc -o /tmp/pi_omp -fopenmp /tmp/pi_omp.c -lm\n",
        "!/tmp/pi_omp\n"
      ]
    },
    {
      "cell_type": "markdown",
      "metadata": {
        "id": "9YtN0PlwQKtF"
      },
      "source": [
        "\n",
        "## Lecturas adicionales\n",
        "\n",
        "* https://mpitutorial.com/tutorials/mpi-scatter-gather-and-allgather/\n",
        "* http://hustcat.github.io/collective-communication-in-mpi/\n",
        "* https://nyu-cds.github.io/python-mpi/05-collectives/\n",
        "* https://colab.research.google.com/github/rosafilgueira/Workflows_Seminar\n",
        "\n"
      ]
    }
  ],
  "metadata": {
    "kernelspec": {
      "display_name": "Python 3 (ipykernel)",
      "language": "python",
      "name": "python3"
    },
    "language_info": {
      "codemirror_mode": {
        "name": "ipython",
        "version": 3
      },
      "file_extension": ".py",
      "mimetype": "text/x-python",
      "name": "python",
      "nbconvert_exporter": "python",
      "pygments_lexer": "ipython3",
      "version": "3.10.13"
    },
    "colab": {
      "provenance": []
    }
  },
  "nbformat": 4,
  "nbformat_minor": 0
}